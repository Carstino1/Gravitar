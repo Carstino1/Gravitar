{
 "cells": [
  {
   "cell_type": "markdown",
   "metadata": {},
   "source": [
    "# Exponentialfunktionen lösen"
   ]
  },
  {
   "cell_type": "code",
   "execution_count": 1,
   "metadata": {},
   "outputs": [],
   "source": [
    "from sympy import *"
   ]
  },
  {
   "cell_type": "code",
   "execution_count": 2,
   "metadata": {},
   "outputs": [
    {
     "data": {
      "text/latex": [
       "$\\displaystyle 3 \\cdot 5^{x - 2} = 7^{4 - x}$"
      ],
      "text/plain": [
       "Eq(3*5**(x - 2), 7**(4 - x))"
      ]
     },
     "execution_count": 2,
     "metadata": {},
     "output_type": "execute_result"
    }
   ],
   "source": [
    "x = symbols('x')\n",
    "l = 3*5**(x-2)\n",
    "r = 7**(4-x)\n",
    "g = Eq(l,r)\n",
    "g\n"
   ]
  },
  {
   "cell_type": "code",
   "execution_count": 3,
   "metadata": {},
   "outputs": [
    {
     "data": {
      "text/latex": [
       "$\\displaystyle \\left\\{- \\frac{- 4 \\log{\\left(7 \\right)} - 2 \\log{\\left(5 \\right)} + \\log{\\left(3 \\right)}}{\\log{\\left(5 \\right)} + \\log{\\left(7 \\right)}}\\right\\}$"
      ],
      "text/plain": [
       "{-(-4*log(7) - 2*log(5) + log(3))/(log(5) + log(7))}"
      ]
     },
     "execution_count": 3,
     "metadata": {},
     "output_type": "execute_result"
    }
   ],
   "source": [
    "e = solveset(g)\n",
    "e"
   ]
  },
  {
   "cell_type": "code",
   "execution_count": 4,
   "metadata": {},
   "outputs": [
    {
     "data": {
      "text/latex": [
       "$\\displaystyle \\left\\{2.78563560054719\\right\\}$"
      ],
      "text/plain": [
       "{2.78563560054719}"
      ]
     },
     "execution_count": 4,
     "metadata": {},
     "output_type": "execute_result"
    }
   ],
   "source": [
    "N(e)"
   ]
  },
  {
   "cell_type": "markdown",
   "metadata": {},
   "source": [
    "### Manuelle, schrittweise Lösung"
   ]
  },
  {
   "cell_type": "code",
   "execution_count": 5,
   "metadata": {},
   "outputs": [
    {
     "data": {
      "text/latex": [
       "$\\displaystyle 3 \\cdot 5^{x - 2} = 7^{4 - x}$"
      ],
      "text/plain": [
       "Eq(3*5**(x - 2), 7**(4 - x))"
      ]
     },
     "execution_count": 5,
     "metadata": {},
     "output_type": "execute_result"
    }
   ],
   "source": [
    "g"
   ]
  },
  {
   "cell_type": "markdown",
   "metadata": {},
   "source": [
    " 1 Schritt\n",
    "\n",
    "Auf beiden Seiten der Gleichung wird der Log angewendet."
   ]
  },
  {
   "cell_type": "code",
   "execution_count": 6,
   "metadata": {},
   "outputs": [
    {
     "data": {
      "text/latex": [
       "$\\displaystyle \\log{\\left(3 \\cdot 5^{x - 2} \\right)} = \\log{\\left(7^{4 - x} \\right)}$"
      ],
      "text/plain": [
       "Eq(log(3*5**(x - 2)), log(7**(4 - x)))"
      ]
     },
     "execution_count": 6,
     "metadata": {},
     "output_type": "execute_result"
    }
   ],
   "source": [
    "l = log(l)\n",
    "r = log(r)\n",
    "Eq(l,r)"
   ]
  },
  {
   "cell_type": "markdown",
   "metadata": {},
   "source": [
    " 2 Schritt\n",
    "\n",
    "Auf der linken Seite der Gleichung die 1. Logarithmus-Regel anwenden.\n",
    "\n",
    "$log(a \\cdot b) = log(a) + log(b)$"
   ]
  },
  {
   "cell_type": "code",
   "execution_count": 7,
   "metadata": {},
   "outputs": [
    {
     "data": {
      "text/latex": [
       "$\\displaystyle \\log{\\left(5^{x - 2} \\right)} + \\log{\\left(3 \\right)} = \\log{\\left(7^{4 - x} \\right)}$"
      ],
      "text/plain": [
       "Eq(log(5**(x - 2)) + log(3), log(7**(4 - x)))"
      ]
     },
     "execution_count": 7,
     "metadata": {},
     "output_type": "execute_result"
    }
   ],
   "source": [
    "l = log(3) + log(5**(x-2))\n",
    "Eq(l,r)"
   ]
  },
  {
   "cell_type": "markdown",
   "metadata": {},
   "source": [
    " 3 Schritt\n",
    "\n",
    "Auf beiden Seiten der Gleichung die 3. Logarithmus-Regel anwenden.\n",
    "\n",
    "$log(a^b) = b \\cdot log(a)$"
   ]
  },
  {
   "cell_type": "code",
   "execution_count": 8,
   "metadata": {},
   "outputs": [
    {
     "data": {
      "text/latex": [
       "$\\displaystyle \\left(x - 2\\right) \\log{\\left(5 \\right)} + \\log{\\left(3 \\right)} = \\left(4 - x\\right) \\log{\\left(7 \\right)}$"
      ],
      "text/plain": [
       "Eq((x - 2)*log(5) + log(3), (4 - x)*log(7))"
      ]
     },
     "execution_count": 8,
     "metadata": {},
     "output_type": "execute_result"
    }
   ],
   "source": [
    "l = (x-2)*log(5)+log(3)\n",
    "r = (4-x)*log(7)\n",
    "Eq(l,r)"
   ]
  },
  {
   "cell_type": "markdown",
   "metadata": {},
   "source": [
    " 4 Schritt\n",
    "\n",
    "Klammern durch Distributionsregel auflösen.\n",
    "\n",
    "$a \\cdot (b + c) = ab + ac$"
   ]
  },
  {
   "cell_type": "code",
   "execution_count": 9,
   "metadata": {},
   "outputs": [
    {
     "data": {
      "text/latex": [
       "$\\displaystyle x \\log{\\left(5 \\right)} - 2 \\log{\\left(5 \\right)} + \\log{\\left(3 \\right)} = - x \\log{\\left(7 \\right)} + 4 \\log{\\left(7 \\right)}$"
      ],
      "text/plain": [
       "Eq(x*log(5) - 2*log(5) + log(3), -x*log(7) + 4*log(7))"
      ]
     },
     "execution_count": 9,
     "metadata": {},
     "output_type": "execute_result"
    }
   ],
   "source": [
    "l = factor(l)\n",
    "r = 4*log(7)-x*log(7)\n",
    "Eq(l,r)"
   ]
  },
  {
   "cell_type": "markdown",
   "metadata": {},
   "source": [
    " 5 Schritt\n",
    "\n",
    "Alle $xlog$ auf eine Seite bringen, ..."
   ]
  },
  {
   "cell_type": "code",
   "execution_count": 10,
   "metadata": {},
   "outputs": [
    {
     "data": {
      "text/latex": [
       "$\\displaystyle - 2 \\log{\\left(5 \\right)} + \\log{\\left(3 \\right)} = - x \\log{\\left(7 \\right)} - x \\log{\\left(5 \\right)} + 4 \\log{\\left(7 \\right)}$"
      ],
      "text/plain": [
       "Eq(-2*log(5) + log(3), -x*log(7) - x*log(5) + 4*log(7))"
      ]
     },
     "execution_count": 10,
     "metadata": {},
     "output_type": "execute_result"
    }
   ],
   "source": [
    "l -= x*log(5)\n",
    "r -= x*log(5)\n",
    "Eq(l,r)\n"
   ]
  },
  {
   "cell_type": "markdown",
   "metadata": {},
   "source": [
    "... alle $log$ auf die andere Seite."
   ]
  },
  {
   "cell_type": "code",
   "execution_count": 11,
   "metadata": {},
   "outputs": [
    {
     "data": {
      "text/latex": [
       "$\\displaystyle - 4 \\log{\\left(7 \\right)} - 2 \\log{\\left(5 \\right)} + \\log{\\left(3 \\right)} = - x \\log{\\left(7 \\right)} - x \\log{\\left(5 \\right)}$"
      ],
      "text/plain": [
       "Eq(-4*log(7) - 2*log(5) + log(3), -x*log(7) - x*log(5))"
      ]
     },
     "execution_count": 11,
     "metadata": {},
     "output_type": "execute_result"
    }
   ],
   "source": [
    "l -= 4*log(7)\n",
    "r -= 4*log(7)\n",
    "Eq(l,r)"
   ]
  },
  {
   "cell_type": "markdown",
   "metadata": {},
   "source": [
    " 6 Schritt\n",
    "\n",
    "Klammer für $xlog$ durch umgekehrte Distributionsregel setzen."
   ]
  },
  {
   "cell_type": "code",
   "execution_count": 12,
   "metadata": {},
   "outputs": [
    {
     "data": {
      "text/latex": [
       "$\\displaystyle - 4 \\log{\\left(7 \\right)} - 2 \\log{\\left(5 \\right)} + \\log{\\left(3 \\right)} = - x \\left(\\log{\\left(5 \\right)} + \\log{\\left(7 \\right)}\\right)$"
      ],
      "text/plain": [
       "Eq(-4*log(7) - 2*log(5) + log(3), -x*(log(5) + log(7)))"
      ]
     },
     "execution_count": 12,
     "metadata": {},
     "output_type": "execute_result"
    }
   ],
   "source": [
    "r = factor(r)\n",
    "Eq(l,r)"
   ]
  },
  {
   "cell_type": "markdown",
   "metadata": {},
   "source": [
    " 7 Schritt\n",
    "\n",
    "x rechts isolieren, indem beide Seiten durch die rechte Klammer geteilt werden."
   ]
  },
  {
   "cell_type": "code",
   "execution_count": 13,
   "metadata": {},
   "outputs": [
    {
     "data": {
      "text/latex": [
       "$\\displaystyle \\frac{- 4 \\log{\\left(7 \\right)} - 2 \\log{\\left(5 \\right)} + \\log{\\left(3 \\right)}}{\\log{\\left(5 \\right)} + \\log{\\left(7 \\right)}} = - x$"
      ],
      "text/plain": [
       "Eq((-4*log(7) - 2*log(5) + log(3))/(log(5) + log(7)), -x)"
      ]
     },
     "execution_count": 13,
     "metadata": {},
     "output_type": "execute_result"
    }
   ],
   "source": [
    "r /= (log(5) + log(7))\n",
    "l /= (log(5) + log(7))\n",
    "Eq(l,r)"
   ]
  },
  {
   "cell_type": "markdown",
   "metadata": {},
   "source": [
    " 8 Schritt\n",
    "\n",
    "Beiden Seiten mit - 1 multipizieren, um aus $-x$ ein $x$ zu machen."
   ]
  },
  {
   "cell_type": "code",
   "execution_count": 14,
   "metadata": {},
   "outputs": [
    {
     "data": {
      "text/latex": [
       "$\\displaystyle - \\frac{- 4 \\log{\\left(7 \\right)} - 2 \\log{\\left(5 \\right)} + \\log{\\left(3 \\right)}}{\\log{\\left(5 \\right)} + \\log{\\left(7 \\right)}} = x$"
      ],
      "text/plain": [
       "Eq(-(-4*log(7) - 2*log(5) + log(3))/(log(5) + log(7)), x)"
      ]
     },
     "execution_count": 14,
     "metadata": {},
     "output_type": "execute_result"
    }
   ],
   "source": [
    "l *= -1\n",
    "r *= -1\n",
    "Eq(l,r)"
   ]
  },
  {
   "cell_type": "markdown",
   "metadata": {},
   "source": [
    " 9 Schritt \n",
    " \n",
    "Ergebnis im Taschenrechner ausrechnen"
   ]
  },
  {
   "cell_type": "code",
   "execution_count": 15,
   "metadata": {},
   "outputs": [
    {
     "data": {
      "text/latex": [
       "$\\displaystyle 2.78563560054719 = x$"
      ],
      "text/plain": [
       "Eq(2.78563560054719, x)"
      ]
     },
     "execution_count": 15,
     "metadata": {},
     "output_type": "execute_result"
    }
   ],
   "source": [
    "N(Eq(l,r))"
   ]
  },
  {
   "cell_type": "code",
   "execution_count": 16,
   "metadata": {},
   "outputs": [
    {
     "data": {
      "text/latex": [
       "$\\displaystyle \\left\\{- \\frac{- 4 \\log{\\left(7 \\right)} - 2 \\log{\\left(5 \\right)} + \\log{\\left(3 \\right)}}{\\log{\\left(5 \\right)} + \\log{\\left(7 \\right)}}\\right\\}$"
      ],
      "text/plain": [
       "{-(-4*log(7) - 2*log(5) + log(3))/(log(5) + log(7))}"
      ]
     },
     "execution_count": 16,
     "metadata": {},
     "output_type": "execute_result"
    }
   ],
   "source": [
    "e"
   ]
  }
 ],
 "metadata": {
  "interpreter": {
   "hash": "c09ca831ef29295e952c2d593662360469d105e29087071c274706bf094cbe7b"
  },
  "kernelspec": {
   "display_name": "Python 3.9.9 64-bit",
   "language": "python",
   "name": "python3"
  },
  "language_info": {
   "codemirror_mode": {
    "name": "ipython",
    "version": 3
   },
   "file_extension": ".py",
   "mimetype": "text/x-python",
   "name": "python",
   "nbconvert_exporter": "python",
   "pygments_lexer": "ipython3",
   "version": "3.9.9"
  },
  "orig_nbformat": 4
 },
 "nbformat": 4,
 "nbformat_minor": 2
}
