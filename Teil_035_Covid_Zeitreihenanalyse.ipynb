{
 "cells": [
  {
   "cell_type": "markdown",
   "metadata": {},
   "source": [
    "## Zeitreihenanalyse Covid-19\n",
    "\n",
    "Datenquelle: Bereinigte Daten der Johns Hopkins Unviversity\n",
    "\n",
    "Analyse der Entwicklung Neuinfektionen Covid_19 Summe letzte 7 Tage je 100.000 Einwohner"
   ]
  },
  {
   "cell_type": "code",
   "execution_count": 1,
   "metadata": {
    "tags": []
   },
   "outputs": [],
   "source": [
    "import pandas as pd \n",
    "import folium\n",
    "from selenium import webdriver\n",
    "import time\n",
    "import os"
   ]
  },
  {
   "cell_type": "markdown",
   "metadata": {},
   "source": [
    "Hier holen wir uns die bereinigten Daten der John-Hopskins-University."
   ]
  },
  {
   "cell_type": "code",
   "execution_count": 2,
   "metadata": {},
   "outputs": [],
   "source": [
    "covid_df = pd.read_csv('https://raw.githubusercontent.com/Lucas-Czarnecki/COVID-19-CLEANED-JHUCSSE/master/COVID-19_CLEAN/csse_covid_19_time_series_cleaned/time_series_covid19_cases_tidy.csv',parse_dates=['Date'])\n",
    "\n",
    "covid_df = covid_df.drop(columns=['Province_State', 'Latitude', 'Longitude'])\n",
    "\n",
    "covid_df.rename(columns=dict(Country_Region = 'land', Confirmed = 'infiziert', Deaths = 'tot', Recovered = 'erholt', Date = 'datum'),inplace=True)"
   ]
  },
  {
   "cell_type": "markdown",
   "metadata": {},
   "source": [
    "Jetzt holen wir uns die Ländercodes (ISO 3-stellig) aller Länder"
   ]
  },
  {
   "cell_type": "code",
   "execution_count": 3,
   "metadata": {},
   "outputs": [],
   "source": [
    "country_codes = pd.read_csv('https://raw.githubusercontent.com/datasets/country-codes/master/data/country-codes.csv')\n",
    "country_codes.rename(columns={'ISO3166-1-Alpha-3':'iso3', 'official_name_en':'iso_land'},inplace=True)\n",
    "country_codes = country_codes[['iso3','iso_land']]"
   ]
  },
  {
   "cell_type": "markdown",
   "metadata": {},
   "source": [
    "Leider muss man etliche Ländernamen anpassen, damit die Tabellen synchron sind."
   ]
  },
  {
   "cell_type": "code",
   "execution_count": 4,
   "metadata": {},
   "outputs": [],
   "source": [
    "convert = {'United Kingdom of Great Britain and Northern Ireland':'United Kingdom', 'Bolivia (Plurinational State of)':'Bolivia', 'Brunei Darussalam':'Brunei', 'Myanmar':'Burma', 'Congo':'Congo (Brazzaville)', 'Democratic Republic of the Congo':'Congo (Kinshasa)', 'Iran (Islamic Republic of)':'Iran', 'Republic of Korea':'South Korea', \"Lao People's Democratic Republic\":'Laos', 'Republic of Moldova':'Moldova', 'Russian Federation':'Russia','Syrian Arab Republic':'Syria', 'United Republic of Tanzania':'Tanzania','United States of America':'United States','Venezuela (Bolivarian Republic of)': 'Venezuela', 'Viet Nam':'Vietnam'}\n",
    "old = convert.values()\n",
    "new = convert.keys()\n",
    "covid_df.land = covid_df.land.replace(old,new)\n"
   ]
  },
  {
   "cell_type": "code",
   "execution_count": 5,
   "metadata": {},
   "outputs": [
    {
     "output_type": "execute_result",
     "data": {
      "text/plain": "array([\"Cote d'Ivoire\", 'Diamond Princess', 'Kosovo', 'MS Zaandam',\n       'North Macedonia', 'Taiwan', 'West Bank and Gaza'], dtype=object)"
     },
     "metadata": {},
     "execution_count": 5
    }
   ],
   "source": [
    "not_in_country_codes = covid_df[~covid_df.land.isin(country_codes.iso_land)]\n",
    "not_in_country_codes.land.unique()"
   ]
  },
  {
   "cell_type": "markdown",
   "metadata": {},
   "source": [
    "Hier findet das Zusammenführen der ISO-Codes mit der COVID-Tabelle statt"
   ]
  },
  {
   "cell_type": "code",
   "execution_count": 6,
   "metadata": {},
   "outputs": [],
   "source": [
    "covid_df = pd.merge(covid_df, country_codes, left_on=['land'], right_on=['iso_land'])\n"
   ]
  },
  {
   "cell_type": "code",
   "execution_count": 7,
   "metadata": {},
   "outputs": [],
   "source": [
    "pop_df = pd.read_csv('https://raw.githubusercontent.com/datasets/population/master/data/population.csv')\n",
    "\n",
    "pop_df = pop_df[pop_df.Year == 2018]\n",
    "pop_df = pop_df.append({'Country Name':'Eritrea', 'Value': 5_100_000, 'Country Code':'ERI'},ignore_index=True)"
   ]
  },
  {
   "cell_type": "markdown",
   "metadata": {},
   "source": [
    "Über die die ISO-Codes\n",
    " erfolgt eine Zusammenführung der Covid-Tabelle mit den Bevölerkungszahlen. Nicht sehr speichereffizient, da jede Zeile des Landes für jeden Tag jetzt auch die Bevölkerungszahl enthält, aber dafür einfach in der weiteren Berechnung von Infizierten/100.000 Einwohner"
   ]
  },
  {
   "cell_type": "code",
   "execution_count": 8,
   "metadata": {},
   "outputs": [],
   "source": [
    "covid_df = pd.merge(covid_df, pop_df, left_on=['iso3'], right_on=['Country Code'])\n",
    "covid_df = covid_df.drop(columns=['iso_land', 'Country Name', 'Country Code', 'Year'])"
   ]
  },
  {
   "cell_type": "markdown",
   "metadata": {},
   "source": [
    "Jetzt ermitteln wir die Neu Infizierten kumuliert über die letzten 7 Tage und umgerechnet auf 100.000 Einwohner"
   ]
  },
  {
   "cell_type": "code",
   "execution_count": 9,
   "metadata": {},
   "outputs": [
    {
     "output_type": "execute_result",
     "data": {
      "text/plain": "           land      datum  infiziert  tot  erholt iso3     Value  \\\n49339  Zimbabwe 2020-07-27       2704   36   542.0  ZWE  14439018   \n49340  Zimbabwe 2020-07-28       2817   40   604.0  ZWE  14439018   \n49341  Zimbabwe 2020-07-29       2879   41   887.0  ZWE  14439018   \n49342  Zimbabwe 2020-07-30       3092   53   924.0  ZWE  14439018   \n49343  Zimbabwe 2020-07-31       3169   67  1004.0  ZWE  14439018   \n\n       neuInfiziert  \n49339      6.863348  \n49340      6.904902  \n49341      5.852199  \n49342      6.704057  \n49343      6.046118  ",
      "text/html": "<div>\n<style scoped>\n    .dataframe tbody tr th:only-of-type {\n        vertical-align: middle;\n    }\n\n    .dataframe tbody tr th {\n        vertical-align: top;\n    }\n\n    .dataframe thead th {\n        text-align: right;\n    }\n</style>\n<table border=\"1\" class=\"dataframe\">\n  <thead>\n    <tr style=\"text-align: right;\">\n      <th></th>\n      <th>land</th>\n      <th>datum</th>\n      <th>infiziert</th>\n      <th>tot</th>\n      <th>erholt</th>\n      <th>iso3</th>\n      <th>Value</th>\n      <th>neuInfiziert</th>\n    </tr>\n  </thead>\n  <tbody>\n    <tr>\n      <th>49339</th>\n      <td>Zimbabwe</td>\n      <td>2020-07-27</td>\n      <td>2704</td>\n      <td>36</td>\n      <td>542.0</td>\n      <td>ZWE</td>\n      <td>14439018</td>\n      <td>6.863348</td>\n    </tr>\n    <tr>\n      <th>49340</th>\n      <td>Zimbabwe</td>\n      <td>2020-07-28</td>\n      <td>2817</td>\n      <td>40</td>\n      <td>604.0</td>\n      <td>ZWE</td>\n      <td>14439018</td>\n      <td>6.904902</td>\n    </tr>\n    <tr>\n      <th>49341</th>\n      <td>Zimbabwe</td>\n      <td>2020-07-29</td>\n      <td>2879</td>\n      <td>41</td>\n      <td>887.0</td>\n      <td>ZWE</td>\n      <td>14439018</td>\n      <td>5.852199</td>\n    </tr>\n    <tr>\n      <th>49342</th>\n      <td>Zimbabwe</td>\n      <td>2020-07-30</td>\n      <td>3092</td>\n      <td>53</td>\n      <td>924.0</td>\n      <td>ZWE</td>\n      <td>14439018</td>\n      <td>6.704057</td>\n    </tr>\n    <tr>\n      <th>49343</th>\n      <td>Zimbabwe</td>\n      <td>2020-07-31</td>\n      <td>3169</td>\n      <td>67</td>\n      <td>1004.0</td>\n      <td>ZWE</td>\n      <td>14439018</td>\n      <td>6.046118</td>\n    </tr>\n  </tbody>\n</table>\n</div>"
     },
     "metadata": {},
     "execution_count": 9
    }
   ],
   "source": [
    "# Berechnung von weiteren Daten auf der Basis der vorhandenen Informationen\n",
    "covid_df['neuInfiziert'] = covid_df.infiziert.diff(7) / covid_df.Value * 100_000\n",
    "covid_df.tail()"
   ]
  },
  {
   "cell_type": "markdown",
   "metadata": {},
   "source": [
    "Hier holen wir uns die GEO-JSON-Daten der Umrisse der einzelnen Länder. Dann ermitteln wir alle ISO-Ländercodes von Ländern aus der GEO-JSON-Tabelle und schmeißen danach alle Länder aus der COVID-Datenanalyse, die nicht in der GEO-JSON sind.\n",
    "\n",
    "Wenn wir keinen Umriss haben, brauchen wir uns um die Daten dieses Landes nicht zu kümmern."
   ]
  },
  {
   "cell_type": "code",
   "execution_count": 10,
   "metadata": {
    "tags": []
   },
   "outputs": [],
   "source": [
    "geo_iso = set()\n",
    "geo_json = pd.read_json('https://raw.githubusercontent.com/austinkeeley/Countries-GeoJSON/master/countries.json')\n",
    "for row in geo_json.features:\n",
    "    geo_iso.add(row['properties']['iso_a3'])\n",
    "covid_df = covid_df[covid_df.iso3.isin(geo_iso)]   "
   ]
  },
  {
   "cell_type": "markdown",
   "metadata": {},
   "source": [
    "Hier fliegen jetzt alle Länder raus, deren Einwohnerzahl unter 3 Mio. liegen. Dadurch wird verhindert, dass irgenwelche kleinen Länder mit Ihren Infektionszahlen (schönes Beispiel \"Lichtenstein\") den Schnitt weltweit dominieren."
   ]
  },
  {
   "cell_type": "code",
   "execution_count": 11,
   "metadata": {},
   "outputs": [],
   "source": [
    "covid_df = covid_df[covid_df.Value > 3_000_000]   "
   ]
  },
  {
   "cell_type": "markdown",
   "metadata": {},
   "source": [
    "Jetzt wird für jedes Datum in covid_df eine eigene Map erzeugt und als HTML im Unterverzeichnis Teil_35_Maps unter dem Namen Map<3-stellige-fortlaufende Nr, beginnend mit 7>.html gespeichert"
   ]
  },
  {
   "cell_type": "code",
   "execution_count": 12,
   "metadata": {},
   "outputs": [],
   "source": [
    "counter = counter_start = 170\n",
    "geo_data_raw = r'https://raw.githubusercontent.com/austinkeeley/Countries-GeoJSON/master/countries.json'\n",
    "for date in covid_df.datum.unique()[counter_start:]:\n",
    "    df = covid_df[covid_df.datum == date]\n",
    "    d = pd.to_datetime(str(date))\n",
    "    d = d.strftime('%d.%m.%Y')\n",
    "    title_html = f'<h3 align=\"center\" style=\"font-size:20px\"><b>Neuinfektioen Covid-19 vom {d}</b></h3>'\n",
    "    m = folium.Map(location = [12.2395, -1.5584094], zoom_start=3)\n",
    "    m.choropleth(\n",
    "        geo_data= geo_data_raw,\n",
    "        data= df,\n",
    "        columns=['iso3', 'neuInfiziert'],\n",
    "        key_on = 'feature.properties.iso_a3',\n",
    "        fill_color = 'YlOrRd',\n",
    "        nan_fill_color = 'white',\n",
    "        fill_opacity = 0.7,\n",
    "        line_opacity = 0.2,\n",
    "        legend_name = 'Neuinfektionen summiert über die letzten 7 Tage je 100.000 Einwohner',\n",
    "        highlight = True\n",
    "    )\n",
    "    m.get_root().html.add_child(folium.Element(title_html))\n",
    "    m.save(f'Teil_35_Maps\\World{counter:03d}.html')\n",
    "    counter += 1"
   ]
  },
  {
   "cell_type": "markdown",
   "metadata": {},
   "source": [
    "Und hier die Umwandlung von HTML auf PNG. Durch den Aufruf der html-seite in Selenium und export als PNG (sic!)"
   ]
  },
  {
   "cell_type": "code",
   "execution_count": 13,
   "metadata": {},
   "outputs": [],
   "source": [
    "delay=5\n",
    "browser = webdriver.Chrome('d:\\programme\\Selenium_web_driver\\chromedriver.exe')\n",
    "for file in os.listdir('Teil_35_Maps'):\n",
    "    if not file.endswith('.html') or not file.startswith('World') or int(file[5:8]) < counter_start: continue\n",
    "    browser.get(f'file:///D:/daten/Sprachen/Python/A-beautiful-code-in-Python/Teil_35_Maps/{file}')\n",
    "    #Give the map tiles some time to load\n",
    "    time.sleep(5)\n",
    "    #Grab the screenshot\n",
    "    browser.save_screenshot(f'D:/daten/Sprachen/Python/A-beautiful-code-in-Python/Teil_35_Maps/{file}.png')\n",
    "#Close the browser\n",
    "browser.quit()"
   ]
  },
  {
   "cell_type": "code",
   "execution_count": null,
   "metadata": {},
   "outputs": [],
   "source": []
  }
 ],
 "metadata": {
  "language_info": {
   "name": "python",
   "codemirror_mode": {
    "name": "ipython",
    "version": 3
   },
   "version": "3.8.1-final"
  },
  "orig_nbformat": 2,
  "file_extension": ".py",
  "mimetype": "text/x-python",
  "name": "python",
  "npconvert_exporter": "python",
  "pygments_lexer": "ipython3",
  "version": 3,
  "kernelspec": {
   "name": "python38164bitcea02bdcb2234774a5a6e94c8d5db70c",
   "display_name": "Python 3.8.1 64-bit"
  }
 },
 "nbformat": 4,
 "nbformat_minor": 2
}