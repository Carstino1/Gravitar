{
 "cells": [
  {
   "cell_type": "markdown",
   "metadata": {},
   "source": [
    "## Iter-Comprehension (List, Set, Tuple, Dictionary)\n",
    "\n",
    "### Beispiel 1: Generierung einer Liste mit aufsteigenden Zahlen 0 - 9\n",
    "\n",
    "Lösung zuerst über eine Schleife, dann mit List-Comprehension"
   ]
  },
  {
   "cell_type": "code",
   "execution_count": 2,
   "metadata": {},
   "outputs": [
    {
     "name": "stdout",
     "output_type": "stream",
     "text": [
      "[0, 1, 2, 3, 4, 5, 6, 7, 8, 9]\n"
     ]
    }
   ],
   "source": [
    "liste = []\n",
    "for i in range(10):\n",
    "  liste.append(i)\n",
    "print(liste)  \n"
   ]
  },
  {
   "cell_type": "code",
   "execution_count": 3,
   "metadata": {},
   "outputs": [
    {
     "name": "stdout",
     "output_type": "stream",
     "text": [
      "[0, 1, 2, 3, 4, 5, 6, 7, 8, 9]\n"
     ]
    }
   ],
   "source": [
    "liste = [i for i in range(10)]\n",
    "print(liste)"
   ]
  },
  {
   "cell_type": "markdown",
   "metadata": {},
   "source": [
    "### Beispiel 2: Generierung einer 2d-Liste mit Koordinaten x(0..10) und y(0..3)"
   ]
  },
  {
   "cell_type": "code",
   "execution_count": 4,
   "metadata": {},
   "outputs": [
    {
     "name": "stdout",
     "output_type": "stream",
     "text": [
      "[[0, 1, 2, 3, 4, 5, 6, 7, 8, 9, 10], [0, 1, 2, 3, 4, 5, 6, 7, 8, 9, 10], [0, 1, 2, 3, 4, 5, 6, 7, 8, 9, 10], [0, 1, 2, 3, 4, 5, 6, 7, 8, 9, 10]]\n"
     ]
    }
   ],
   "source": [
    "liste = []\n",
    "for y in range(4):\n",
    "  zeile = []\n",
    "  for x in range(11):\n",
    "    zeile.append(x)\n",
    "  liste.append(zeile)\n",
    "print(liste)  \n",
    "\n"
   ]
  },
  {
   "cell_type": "code",
   "execution_count": 5,
   "metadata": {},
   "outputs": [
    {
     "name": "stdout",
     "output_type": "stream",
     "text": [
      "[[0, 1, 2, 3, 4, 5, 6, 7, 8, 9, 10], [0, 1, 2, 3, 4, 5, 6, 7, 8, 9, 10], [0, 1, 2, 3, 4, 5, 6, 7, 8, 9, 10], [0, 1, 2, 3, 4, 5, 6, 7, 8, 9, 10]]\n"
     ]
    }
   ],
   "source": [
    "liste = [[x for x in range(11)] for _ in range(4)]\n",
    "print(liste)"
   ]
  },
  {
   "cell_type": "markdown",
   "metadata": {},
   "source": [
    "### Beispiel 3: Speicherung aller ungeraden Zahlen von 1-10"
   ]
  },
  {
   "cell_type": "code",
   "execution_count": 6,
   "metadata": {},
   "outputs": [
    {
     "name": "stdout",
     "output_type": "stream",
     "text": [
      "[1, 3, 5, 7, 9]\n"
     ]
    }
   ],
   "source": [
    "liste = []\n",
    "for i in range(1,10):\n",
    "  if i%2:\n",
    "    liste.append(i)\n",
    "print(liste)"
   ]
  },
  {
   "cell_type": "code",
   "execution_count": 7,
   "metadata": {},
   "outputs": [
    {
     "name": "stdout",
     "output_type": "stream",
     "text": [
      "[1, 3, 5, 7, 9]\n"
     ]
    }
   ],
   "source": [
    "liste = [i for i in range(1,10) if i%2]\n",
    "print(liste)"
   ]
  },
  {
   "cell_type": "markdown",
   "metadata": {},
   "source": [
    "### Beispiel 4: Entfernen aller durch 3 teilbaren Zahlen aus der Liste"
   ]
  },
  {
   "cell_type": "code",
   "execution_count": 8,
   "metadata": {},
   "outputs": [
    {
     "data": {
      "text/plain": [
       "[1, 5, 7]"
      ]
     },
     "execution_count": 8,
     "metadata": {},
     "output_type": "execute_result"
    }
   ],
   "source": [
    "liste2 = []\n",
    "for e in liste:\n",
    "  if e%3:\n",
    "    liste2.append(e)\n",
    "liste2    "
   ]
  },
  {
   "cell_type": "code",
   "execution_count": 9,
   "metadata": {},
   "outputs": [
    {
     "name": "stdout",
     "output_type": "stream",
     "text": [
      "[1, 5, 7]\n"
     ]
    }
   ],
   "source": [
    "liste = [e for e in liste if e%3]\n",
    "print(liste)"
   ]
  },
  {
   "cell_type": "markdown",
   "metadata": {},
   "source": [
    "### Beispiele 1 - 4 als Set"
   ]
  },
  {
   "cell_type": "code",
   "execution_count": 14,
   "metadata": {},
   "outputs": [
    {
     "name": "stdout",
     "output_type": "stream",
     "text": [
      "{0, 1, 2, 3, 4, 5, 6, 7, 8, 9}\n",
      "{frozenset({0, 1, 2, 3, 4, 5, 6, 7, 8, 9, 10})}\n",
      "{1, 3, 5, 7, 9}\n",
      "{1, 5, 7}\n"
     ]
    }
   ],
   "source": [
    "mein_set = {i for i in range(10)}\n",
    "print(mein_set)\n",
    "\n",
    "mein_set = {frozenset({i for i in range(11)}) for _ in range(4)}\n",
    "print(mein_set)\n",
    "\n",
    "mein_set = {i for i in range(10) if i%2}\n",
    "print(mein_set)\n",
    "\n",
    "mein_set = {e for e in mein_set if e%3}\n",
    "print(mein_set)"
   ]
  },
  {
   "cell_type": "markdown",
   "metadata": {},
   "source": [
    "### Beispiele 1 - 4 als Tuple"
   ]
  },
  {
   "cell_type": "code",
   "execution_count": 26,
   "metadata": {},
   "outputs": [
    {
     "name": "stdout",
     "output_type": "stream",
     "text": [
      "(0, 1, 2, 3, 4, 5, 6, 7, 8, 9)\n",
      "((0, 1, 2, 3, 4, 5, 6, 7, 8, 9, 10), (0, 1, 2, 3, 4, 5, 6, 7, 8, 9, 10), (0, 1, 2, 3, 4, 5, 6, 7, 8, 9, 10), (0, 1, 2, 3, 4, 5, 6, 7, 8, 9, 10))\n",
      "(1, 3, 5, 7, 9)\n",
      "(1, 5, 7)\n"
     ]
    }
   ],
   "source": [
    "mein_tuple = tuple(range(10))\n",
    "print(mein_tuple)\n",
    "\n",
    "mein_tuple = tuple(tuple(range(11)) for _ in range(4))\n",
    "print(mein_tuple)\n",
    "\n",
    "mein_tuple = tuple(i for i in range(10) if i%2)\n",
    "print(mein_tuple)\n",
    "\n",
    "mein_tuple = tuple(e for e in mein_tuple if e%3)\n",
    "print(mein_tuple)"
   ]
  },
  {
   "cell_type": "markdown",
   "metadata": {},
   "source": [
    "### Beispiel 5: Generierung eines Dictionary mit Key=tuple(spalte, zeile), Value=True or False (True=weiss, False=schwarz)\n",
    "\n",
    "Generiert die weißen und schwarzen Felder eine Schachbretts mit 8x8 Feldern"
   ]
  },
  {
   "cell_type": "code",
   "execution_count": 34,
   "metadata": {},
   "outputs": [
    {
     "name": "stdout",
     "output_type": "stream",
     "text": [
      "{(0, 0): True, (1, 0): False, (2, 0): True, (3, 0): False, (4, 0): True, (5, 0): False, (6, 0): True, (7, 0): False, (0, 1): False, (1, 1): True, (2, 1): False, (3, 1): True, (4, 1): False, (5, 1): True, (6, 1): False, (7, 1): True, (0, 2): True, (1, 2): False, (2, 2): True, (3, 2): False, (4, 2): True, (5, 2): False, (6, 2): True, (7, 2): False, (0, 3): False, (1, 3): True, (2, 3): False, (3, 3): True, (4, 3): False, (5, 3): True, (6, 3): False, (7, 3): True, (0, 4): True, (1, 4): False, (2, 4): True, (3, 4): False, (4, 4): True, (5, 4): False, (6, 4): True, (7, 4): False, (0, 5): False, (1, 5): True, (2, 5): False, (3, 5): True, (4, 5): False, (5, 5): True, (6, 5): False, (7, 5): True, (0, 6): True, (1, 6): False, (2, 6): True, (3, 6): False, (4, 6): True, (5, 6): False, (6, 6): True, (7, 6): False, (0, 7): False, (1, 7): True, (2, 7): False, (3, 7): True, (4, 7): False, (5, 7): True, (6, 7): False, (7, 7): True}\n"
     ]
    }
   ],
   "source": [
    "brett = {}\n",
    "for z in range(8):\n",
    "  for s in range(8):\n",
    "    brett[(s,z)] = s%2 == z%2\n",
    "print(brett)    "
   ]
  },
  {
   "cell_type": "code",
   "execution_count": 35,
   "metadata": {},
   "outputs": [
    {
     "name": "stdout",
     "output_type": "stream",
     "text": [
      "{(0, 0): True, (1, 0): False, (2, 0): True, (3, 0): False, (4, 0): True, (5, 0): False, (6, 0): True, (7, 0): False, (0, 1): False, (1, 1): True, (2, 1): False, (3, 1): True, (4, 1): False, (5, 1): True, (6, 1): False, (7, 1): True, (0, 2): True, (1, 2): False, (2, 2): True, (3, 2): False, (4, 2): True, (5, 2): False, (6, 2): True, (7, 2): False, (0, 3): False, (1, 3): True, (2, 3): False, (3, 3): True, (4, 3): False, (5, 3): True, (6, 3): False, (7, 3): True, (0, 4): True, (1, 4): False, (2, 4): True, (3, 4): False, (4, 4): True, (5, 4): False, (6, 4): True, (7, 4): False, (0, 5): False, (1, 5): True, (2, 5): False, (3, 5): True, (4, 5): False, (5, 5): True, (6, 5): False, (7, 5): True, (0, 6): True, (1, 6): False, (2, 6): True, (3, 6): False, (4, 6): True, (5, 6): False, (6, 6): True, (7, 6): False, (0, 7): False, (1, 7): True, (2, 7): False, (3, 7): True, (4, 7): False, (5, 7): True, (6, 7): False, (7, 7): True}\n"
     ]
    }
   ],
   "source": [
    "brett = {(s,z): s % 2 == z % 2 for z in range(8) for s in range(8) }\n",
    "print(brett)"
   ]
  },
  {
   "cell_type": "code",
   "execution_count": null,
   "metadata": {},
   "outputs": [],
   "source": []
  },
  {
   "cell_type": "code",
   "execution_count": null,
   "metadata": {},
   "outputs": [],
   "source": []
  },
  {
   "cell_type": "code",
   "execution_count": null,
   "metadata": {},
   "outputs": [],
   "source": []
  }
 ],
 "metadata": {
  "kernelspec": {
   "display_name": "Python 3.10.7 64-bit",
   "language": "python",
   "name": "python3"
  },
  "language_info": {
   "codemirror_mode": {
    "name": "ipython",
    "version": 3
   },
   "file_extension": ".py",
   "mimetype": "text/x-python",
   "name": "python",
   "nbconvert_exporter": "python",
   "pygments_lexer": "ipython3",
   "version": "3.10.7"
  },
  "orig_nbformat": 4,
  "vscode": {
   "interpreter": {
    "hash": "42f2ee50f750575996031024c2a049873d12d0fdb65c724384b123e87daa3af3"
   }
  }
 },
 "nbformat": 4,
 "nbformat_minor": 2
}
