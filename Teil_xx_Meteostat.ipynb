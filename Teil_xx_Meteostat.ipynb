{
 "cells": [
  {
   "cell_type": "code",
   "execution_count": 48,
   "metadata": {},
   "outputs": [
    {
     "name": "stdout",
     "output_type": "stream",
     "text": [
      "1961 1990 17.2\n",
      "1971 2000 17.7\n",
      "1981 2010 18.0\n",
      "1991 2020 18.7\n"
     ]
    }
   ],
   "source": [
    "\n",
    "# Import Meteostat library and dependencies\n",
    "from datetime import datetime\n",
    "import matplotlib.pyplot as plt\n",
    "from meteostat import Normals\n",
    "\n",
    "# Get Normals data\n",
    "Nienhagen = Point(52.5386596,10.0612042, 70)\n",
    "\n",
    "for s in range(1961,1992,10):\n",
    "  data = Normals(Nienhagen, s, s+29)\n",
    "  data = data.fetch()\n",
    "  print(s,s+29,data['tavg'][8])\n",
    "  \n",
    "\n",
    "# Plot line chart including average, minimum and maximum temperature\n"
   ]
  }
 ],
 "metadata": {
  "kernelspec": {
   "display_name": "Python 3.9.9 64-bit",
   "language": "python",
   "name": "python3"
  },
  "language_info": {
   "codemirror_mode": {
    "name": "ipython",
    "version": 3
   },
   "file_extension": ".py",
   "mimetype": "text/x-python",
   "name": "python",
   "nbconvert_exporter": "python",
   "pygments_lexer": "ipython3",
   "version": "3.9.9"
  },
  "orig_nbformat": 4,
  "vscode": {
   "interpreter": {
    "hash": "42f2ee50f750575996031024c2a049873d12d0fdb65c724384b123e87daa3af3"
   }
  }
 },
 "nbformat": 4,
 "nbformat_minor": 2
}
