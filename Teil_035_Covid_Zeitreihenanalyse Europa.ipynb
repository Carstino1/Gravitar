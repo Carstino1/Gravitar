{
 "cells": [
  {
   "cell_type": "markdown",
   "metadata": {},
   "source": [
    "## Zeitreihenanalyse Covid-19 Europa\n",
    "\n",
    "Datenquelle: Bereinigte Daten der Johns Hopkins Unviversity\n",
    "\n",
    "Analyse der 7-Tage-Inzidenzen je 100.000 Einwohner"
   ]
  },
  {
   "cell_type": "code",
   "execution_count": 40,
   "metadata": {
    "tags": []
   },
   "outputs": [],
   "source": [
    "import pandas as pd \n",
    "import folium\n",
    "from selenium import webdriver\n",
    "import time\n",
    "import os"
   ]
  },
  {
   "cell_type": "markdown",
   "metadata": {},
   "source": [
    "Hier holen wir uns die bereinigten Daten der John-Hopskins-University."
   ]
  },
  {
   "cell_type": "code",
   "execution_count": 41,
   "metadata": {},
   "outputs": [],
   "source": [
    "covid_df = pd.read_csv('https://raw.githubusercontent.com/Lucas-Czarnecki/COVID-19-CLEANED-JHUCSSE/master/COVID-19_CLEAN/csse_covid_19_time_series_cleaned/time_series_covid19_cases_tidy.csv',parse_dates=['Date'])\n",
    "\n",
    "covid_df = covid_df.drop(columns=['Province_State', 'Latitude', 'Longitude'])\n",
    "\n",
    "covid_df.rename(columns=dict(Country_Region = 'land', Confirmed = 'infiziert', Deaths = 'tot', Recovered = 'erholt', Date = 'datum'),inplace=True)"
   ]
  },
  {
   "cell_type": "markdown",
   "metadata": {},
   "source": [
    "Jetzt holen wir uns die Ländercodes (ISO 3-stellig) aller Länder"
   ]
  },
  {
   "cell_type": "code",
   "execution_count": 42,
   "metadata": {},
   "outputs": [],
   "source": [
    "country_codes = pd.read_csv('https://raw.githubusercontent.com/datasets/country-codes/master/data/country-codes.csv')\n",
    "country_codes.rename(columns={'ISO3166-1-Alpha-3':'iso3', 'official_name_en':'iso_land'},inplace=True)\n",
    "country_codes = country_codes[country_codes['Region Name'] == 'Europe']\n",
    "country_codes = country_codes[['iso3','iso_land']]"
   ]
  },
  {
   "cell_type": "markdown",
   "metadata": {},
   "source": [
    "Leider muss man etliche Ländernamen anpassen, damit die Tabellen synchron sind."
   ]
  },
  {
   "cell_type": "code",
   "execution_count": 43,
   "metadata": {},
   "outputs": [],
   "source": [
    "convert = {'United Kingdom of Great Britain and Northern Ireland':'United Kingdom', 'Republic of Moldova':'Moldova', 'Russian Federation':'Russia'}\n",
    "old = convert.values()\n",
    "new = convert.keys()\n",
    "covid_df.land = covid_df.land.replace(old,new)\n"
   ]
  },
  {
   "cell_type": "code",
   "execution_count": 44,
   "metadata": {},
   "outputs": [
    {
     "output_type": "execute_result",
     "data": {
      "text/plain": [
       "array(['Canada', 'China', 'Australia', 'Afghanistan', 'Algeria', 'Angola',\n",
       "       'Antigua and Barbuda', 'Argentina', 'Armenia', 'Azerbaijan',\n",
       "       'Bahamas', 'Bahrain', 'Bangladesh', 'Barbados', 'Belize', 'Benin',\n",
       "       'Bhutan', 'Bolivia', 'Botswana', 'Brazil', 'Brunei',\n",
       "       'Burkina Faso', 'Burma', 'Burundi', 'Cabo Verde', 'Cambodia',\n",
       "       'Cameroon', 'Central African Republic', 'Chad', 'Chile',\n",
       "       'Colombia', 'Comoros', 'Congo (Brazzaville)', 'Congo (Kinshasa)',\n",
       "       'Costa Rica', \"Cote d'Ivoire\", 'Cuba', 'Cyprus',\n",
       "       'Diamond Princess', 'Djibouti', 'Dominica', 'Dominican Republic',\n",
       "       'Ecuador', 'Egypt', 'El Salvador', 'Equatorial Guinea', 'Eritrea',\n",
       "       'Eswatini', 'Ethiopia', 'Fiji', 'Gabon', 'Gambia', 'Georgia',\n",
       "       'Ghana', 'Grenada', 'Guatemala', 'Guinea', 'Guinea-Bissau',\n",
       "       'Guyana', 'Haiti', 'Honduras', 'India', 'Indonesia', 'Iran',\n",
       "       'Iraq', 'Israel', 'Jamaica', 'Japan', 'Jordan', 'Kazakhstan',\n",
       "       'Kenya', 'South Korea', 'Kosovo', 'Kuwait', 'Kyrgyzstan', 'Laos',\n",
       "       'Lebanon', 'Lesotho', 'Liberia', 'Libya', 'Madagascar', 'Malawi',\n",
       "       'Malaysia', 'Maldives', 'Mali', 'Mauritania', 'Mauritius',\n",
       "       'Mexico', 'Mongolia', 'Morocco', 'Mozambique', 'MS Zaandam',\n",
       "       'Namibia', 'Nepal', 'New Zealand', 'Nicaragua', 'Niger', 'Nigeria',\n",
       "       'North Macedonia', 'Oman', 'Pakistan', 'Panama',\n",
       "       'Papua New Guinea', 'Paraguay', 'Peru', 'Philippines', 'Qatar',\n",
       "       'Rwanda', 'Saint Kitts and Nevis', 'Saint Lucia',\n",
       "       'Saint Vincent and the Grenadines', 'Sao Tome and Principe',\n",
       "       'Saudi Arabia', 'Senegal', 'Seychelles', 'Sierra Leone',\n",
       "       'Singapore', 'Somalia', 'South Africa', 'South Sudan', 'Sri Lanka',\n",
       "       'Sudan', 'Suriname', 'Syria', 'Taiwan', 'Tajikistan', 'Tanzania',\n",
       "       'Thailand', 'Timor-Leste', 'Togo', 'Trinidad and Tobago',\n",
       "       'Tunisia', 'Turkey', 'Uganda', 'United Arab Emirates', 'Uruguay',\n",
       "       'United States', 'Uzbekistan', 'Venezuela', 'Vietnam',\n",
       "       'West Bank and Gaza', 'Western Sahara', 'Yemen', 'Zambia',\n",
       "       'Zimbabwe'], dtype=object)"
      ]
     },
     "metadata": {},
     "execution_count": 44
    }
   ],
   "source": [
    "not_in_country_codes = covid_df[~covid_df.land.isin(country_codes.iso_land)]\n",
    "not_in_country_codes.land.unique()"
   ]
  },
  {
   "cell_type": "markdown",
   "metadata": {},
   "source": [
    "Hier findet das Zusammenführen der ISO-Codes mit der COVID-Tabelle statt"
   ]
  },
  {
   "cell_type": "code",
   "execution_count": 45,
   "metadata": {},
   "outputs": [],
   "source": [
    "covid_df = pd.merge(covid_df, country_codes, left_on=['land'], right_on=['iso_land'])\n"
   ]
  },
  {
   "cell_type": "code",
   "execution_count": 46,
   "metadata": {},
   "outputs": [],
   "source": [
    "pop_df = pd.read_csv('https://raw.githubusercontent.com/datasets/population/master/data/population.csv')\n",
    "pop_df = pop_df[pop_df.Year == 2018]"
   ]
  },
  {
   "cell_type": "markdown",
   "metadata": {},
   "source": [
    "Über die die ISO-Codes\n",
    " erfolgt eine Zusammenführung der Covid-Tabelle mit den Bevölerkungszahlen. Nicht sehr speichereffizient, da jede Zeile des Landes für jeden Tag jetzt auch die Bevölkerungszahl enthält, aber dafür einfach in der weiteren Berechnung von Infizierten/100.000 Einwohner"
   ]
  },
  {
   "cell_type": "code",
   "execution_count": 47,
   "metadata": {},
   "outputs": [],
   "source": [
    "covid_df = pd.merge(covid_df, pop_df, left_on=['iso3'], right_on=['Country Code'])\n",
    "covid_df = covid_df.drop(columns=['iso_land', 'Country Name', 'Country Code', 'Year'])"
   ]
  },
  {
   "cell_type": "markdown",
   "metadata": {},
   "source": [
    "Jetzt ermitteln wir die Neu Infizierten kumuliert über die letzten 7 Tage und umgerechnet auf 100.000 Einwohner"
   ]
  },
  {
   "cell_type": "code",
   "execution_count": 48,
   "metadata": {},
   "outputs": [
    {
     "output_type": "execute_result",
     "data": {
      "text/plain": [
       "                                                land      datum  infiziert  \\\n",
       "0  United Kingdom of Great Britain and Northern I... 2020-01-22          0   \n",
       "1  United Kingdom of Great Britain and Northern I... 2020-01-23          0   \n",
       "2  United Kingdom of Great Britain and Northern I... 2020-01-24          0   \n",
       "3  United Kingdom of Great Britain and Northern I... 2020-01-25          0   \n",
       "4  United Kingdom of Great Britain and Northern I... 2020-01-26          0   \n",
       "\n",
       "   tot  erholt iso3     Value  neuInfiziert  toteNorm  \n",
       "0    0     0.0  GBR  66460344           NaN       0.0  \n",
       "1    0     0.0  GBR  66460344           NaN       0.0  \n",
       "2    0     0.0  GBR  66460344           NaN       0.0  \n",
       "3    0     0.0  GBR  66460344           NaN       0.0  \n",
       "4    0     0.0  GBR  66460344           NaN       0.0  "
      ],
      "text/html": "<div>\n<style scoped>\n    .dataframe tbody tr th:only-of-type {\n        vertical-align: middle;\n    }\n\n    .dataframe tbody tr th {\n        vertical-align: top;\n    }\n\n    .dataframe thead th {\n        text-align: right;\n    }\n</style>\n<table border=\"1\" class=\"dataframe\">\n  <thead>\n    <tr style=\"text-align: right;\">\n      <th></th>\n      <th>land</th>\n      <th>datum</th>\n      <th>infiziert</th>\n      <th>tot</th>\n      <th>erholt</th>\n      <th>iso3</th>\n      <th>Value</th>\n      <th>neuInfiziert</th>\n      <th>toteNorm</th>\n    </tr>\n  </thead>\n  <tbody>\n    <tr>\n      <th>0</th>\n      <td>United Kingdom of Great Britain and Northern I...</td>\n      <td>2020-01-22</td>\n      <td>0</td>\n      <td>0</td>\n      <td>0.0</td>\n      <td>GBR</td>\n      <td>66460344</td>\n      <td>NaN</td>\n      <td>0.0</td>\n    </tr>\n    <tr>\n      <th>1</th>\n      <td>United Kingdom of Great Britain and Northern I...</td>\n      <td>2020-01-23</td>\n      <td>0</td>\n      <td>0</td>\n      <td>0.0</td>\n      <td>GBR</td>\n      <td>66460344</td>\n      <td>NaN</td>\n      <td>0.0</td>\n    </tr>\n    <tr>\n      <th>2</th>\n      <td>United Kingdom of Great Britain and Northern I...</td>\n      <td>2020-01-24</td>\n      <td>0</td>\n      <td>0</td>\n      <td>0.0</td>\n      <td>GBR</td>\n      <td>66460344</td>\n      <td>NaN</td>\n      <td>0.0</td>\n    </tr>\n    <tr>\n      <th>3</th>\n      <td>United Kingdom of Great Britain and Northern I...</td>\n      <td>2020-01-25</td>\n      <td>0</td>\n      <td>0</td>\n      <td>0.0</td>\n      <td>GBR</td>\n      <td>66460344</td>\n      <td>NaN</td>\n      <td>0.0</td>\n    </tr>\n    <tr>\n      <th>4</th>\n      <td>United Kingdom of Great Britain and Northern I...</td>\n      <td>2020-01-26</td>\n      <td>0</td>\n      <td>0</td>\n      <td>0.0</td>\n      <td>GBR</td>\n      <td>66460344</td>\n      <td>NaN</td>\n      <td>0.0</td>\n    </tr>\n  </tbody>\n</table>\n</div>"
     },
     "metadata": {},
     "execution_count": 48
    }
   ],
   "source": [
    "# Berechnung von weiteren Daten auf der Basis der vorhandenen Informationen\n",
    "covid_df['neuInfiziert'] = covid_df.infiziert.diff(7) / covid_df.Value * 100_000\n",
    "covid_df['toteNorm'] = covid_df.tot / covid_df.Value * 100_000\n",
    "covid_df.head()"
   ]
  },
  {
   "cell_type": "markdown",
   "metadata": {},
   "source": [
    "Hier holen wir uns die GEO-JSON-Daten der Umrisse der einzelnen Länder. Dann ermitteln wir alle ISO-Ländercodes von Ländern aus der GEO-JSON-Tabelle und schmeißen danach alle Länder aus der COVID-Datenanalyse, die nicht in der GEO-JSON sind.\n",
    "\n",
    "Wenn wir keinen Umriss haben, brauchen wir uns um die Daten dieses Landes nicht zu kümmern."
   ]
  },
  {
   "cell_type": "code",
   "execution_count": 49,
   "metadata": {
    "tags": []
   },
   "outputs": [],
   "source": [
    "geo_iso = set()\n",
    "geo_json = pd.read_json('https://raw.githubusercontent.com/austinkeeley/Countries-GeoJSON/master/countries.json')\n",
    "for row in geo_json.features:\n",
    "    geo_iso.add(row['properties']['iso_a3'])\n",
    "not_in_geo = covid_df[~covid_df['iso3'].isin(geo_iso)]\n",
    "not_in_geo.iso3.unique()\n",
    "covid_df = covid_df[~covid_df.iso3.isin(not_in_geo.iso3.unique())]   "
   ]
  },
  {
   "cell_type": "markdown",
   "metadata": {},
   "source": [
    "Hier fliegen jetzt alle Länder raus, deren Einwohnerzahl unter 3 Mio. liegen. Dadurch wird verhindert, dass irgenwelche kleinen Länder mit Ihren Infektionszahlen (schönes Beispiel \"Lichtenstein\") den Schnitt weltweit dominieren."
   ]
  },
  {
   "cell_type": "code",
   "execution_count": 50,
   "metadata": {},
   "outputs": [],
   "source": [
    "covid_df = covid_df[covid_df.Value > 3_000_000]   "
   ]
  },
  {
   "cell_type": "code",
   "execution_count": 38,
   "metadata": {},
   "outputs": [],
   "source": [
    "counter = start_counter = 233\n",
    "geo_data_raw = r'https://raw.githubusercontent.com/austinkeeley/Countries-GeoJSON/master/countries.json'\n",
    "for date in covid_df.datum.unique()[start_counter:]:\n",
    "    df = covid_df[covid_df.datum == date]\n",
    "    d = pd.to_datetime(str(date))\n",
    "    d = d.strftime('%d.%m.%Y')\n",
    "    title_html = f'<h3 align=\"center\" style=\"font-size:20px\"><b>7-Tage-Inzidenzen je 100.000 Einwohner vom {d}</b></h3>'\n",
    "    m = folium.Map(width=1920,height=1200,location = [53.551086, 9.993682], zoom_start=5)\n",
    "    m.choropleth(\n",
    "        geo_data= geo_data_raw,\n",
    "        data= df,\n",
    "        columns=['iso3', 'neuInfiziert'],\n",
    "        key_on = 'feature.properties.iso_a3',\n",
    "        fill_color = 'YlOrRd',\n",
    "        nan_fill_color = 'white',\n",
    "        fill_opacity = 0.7,\n",
    "        line_opacity = 0.2,\n",
    "        legend_name = 'Summe der Neuinfektionen der letzten 7 Tage je 100.000 Einwohner',\n",
    "        highlight = True\n",
    "    )\n",
    "    m.get_root().html.add_child(folium.Element(title_html))\n",
    "    m.save(f'Teil_35_Maps\\Europe{counter:03d}.html')\n",
    "    counter += 1"
   ]
  },
  {
   "cell_type": "code",
   "execution_count": 39,
   "metadata": {},
   "outputs": [],
   "source": [
    "delay=5\n",
    "browser = webdriver.Chrome('d:\\programme\\Selenium_web_driver\\chromedriver.exe')\n",
    "for file in os.listdir('Teil_35_Maps'):\n",
    "    if not file.endswith('.html') or not file.startswith('Europe') or int(file[6:9]) < start_counter: continue\n",
    "    browser.get(f'file:///D:/daten/Sprachen/Python/A-beautiful-code-in-Python/Teil_35_Maps/{file}')\n",
    "    #Give the map tiles some time to load\n",
    "    time.sleep(5)\n",
    "    #Grab the screenshot\n",
    "    browser.save_screenshot(f'D:/daten/Sprachen/Python/A-beautiful-code-in-Python/Teil_35_Maps/{file}.png')\n",
    "#Close the browser\n",
    "browser.quit()"
   ]
  },
  {
   "cell_type": "code",
   "execution_count": null,
   "metadata": {},
   "outputs": [],
   "source": []
  }
 ],
 "metadata": {
  "language_info": {
   "name": "python",
   "codemirror_mode": {
    "name": "ipython",
    "version": 3
   },
   "version": "3.8.1-final"
  },
  "orig_nbformat": 2,
  "file_extension": ".py",
  "mimetype": "text/x-python",
  "name": "python",
  "npconvert_exporter": "python",
  "pygments_lexer": "ipython3",
  "version": 3,
  "kernelspec": {
   "name": "python38164bitcea02bdcb2234774a5a6e94c8d5db70c",
   "display_name": "Python 3.8.1 64-bit"
  }
 },
 "nbformat": 4,
 "nbformat_minor": 2
}